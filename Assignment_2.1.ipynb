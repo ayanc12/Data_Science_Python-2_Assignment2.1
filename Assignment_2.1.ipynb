{
 "cells": [
  {
   "cell_type": "code",
   "execution_count": 12,
   "metadata": {},
   "outputs": [
    {
     "name": "stdout",
     "output_type": "stream",
     "text": [
      "Enter the numbers to be displayed in a list:  12,345,456,5643\n",
      "The numbers in the form of a list is present here: ['12', '345', '456', '5643']\n",
      "The numbers in a single line without commas is presented here: 12 345 456 5643\n"
     ]
    }
   ],
   "source": [
    "# Accepting a set of comma separated numbers from the console\n",
    "\n",
    "numbers = input (\"Enter the numbers to be displayed in a list:  \")\n",
    "\n",
    "# Generating a list of the numbers taken as input by ommitting out the commas\n",
    "refine = numbers.split(',')\n",
    "\n",
    "# printing out the list of numbers only without the commas\n",
    "\n",
    "print (\"The numbers in the form of a list is present here: {}\".format(refine))\n",
    "\n",
    "# listing out the numbers in a more refined form without the commas as well as the 3rd brackets which represents lists\n",
    "\n",
    "newrefine = \" \".join(refine)\n",
    "print (\"The numbers in a single line without commas is presented here: {}\".format(newrefine))"
   ]
  },
  {
   "cell_type": "code",
   "execution_count": null,
   "metadata": {},
   "outputs": [],
   "source": []
  }
 ],
 "metadata": {
  "kernelspec": {
   "display_name": "Python 3",
   "language": "python",
   "name": "python3"
  },
  "language_info": {
   "codemirror_mode": {
    "name": "ipython",
    "version": 3
   },
   "file_extension": ".py",
   "mimetype": "text/x-python",
   "name": "python",
   "nbconvert_exporter": "python",
   "pygments_lexer": "ipython3",
   "version": "3.6.4"
  }
 },
 "nbformat": 4,
 "nbformat_minor": 2
}
